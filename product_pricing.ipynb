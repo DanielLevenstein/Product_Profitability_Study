{
 "cells": [
  {
   "cell_type": "markdown",
   "id": "bc23aad5d4968baf",
   "metadata": {},
   "source": [
    "# Product Pricing Chart Case Study\n",
    "## Product A Pricing Chart\n",
    "\n",
    "- Product A has a raw material cost of around \\$7 and takes about 30 - 45 minutes of processing time to complete.\n",
    "- Product starts at 35 dollars and vendor is charging 5 dollars for each additional color used in construction.\n"
   ]
  },
  {
   "cell_type": "code",
   "execution_count": 43,
   "id": "7ea78ae924463eaa",
   "metadata": {
    "ExecuteTime": {
     "end_time": "2025-09-09T20:08:17.949843Z",
     "start_time": "2025-09-09T20:08:17.946415Z"
    }
   },
   "outputs": [
    {
     "name": "stdout",
     "output_type": "stream",
     "text": [
      "MATERIAL_PRICE: $6.41\n"
     ]
    }
   ],
   "source": [
    "# products start at $35 and cost $5 extra for each additional color\n",
    "import numpy as np\n",
    "# Define constants\n",
    "BASE_PRICE = 35\n",
    "DEFAULT_LENGTH = 12\n",
    "DEFAULT_COLOR_NUM = 1\n",
    "DEFAULT_WEIGHT = 8\n",
    "MATERIAL_LOSS = 8\n",
    "MATERIAL_PRICE_LIST = [14.94 / 2, 34.09 / 4, 48.60 / 10, 19.11 / 4]\n",
    "MATERIAL_PRICE = np.mean(MATERIAL_PRICE_LIST)\n",
    "print(f\"MATERIAL_PRICE: ${MATERIAL_PRICE.round(2)}\")"
   ]
  },
  {
   "cell_type": "markdown",
   "id": "88e1a75e47d0c59e",
   "metadata": {},
   "source": [
    "### Generating Test Data for analysis\n",
    "- Product has 3 parameters which can be customized for each user basis. Length, Weight, and Color.\n",
    "- In my generated test data I am maxing out on a length of 20 inches."
   ]
  },
  {
   "cell_type": "code",
   "execution_count": 44,
   "id": "6994942c2c59ff95",
   "metadata": {
    "ExecuteTime": {
     "end_time": "2025-09-09T20:08:17.973683Z",
     "start_time": "2025-09-09T20:08:17.969404Z"
    }
   },
   "outputs": [
    {
     "data": {
      "text/html": [
       "<div>\n",
       "<style scoped>\n",
       "    .dataframe tbody tr th:only-of-type {\n",
       "        vertical-align: middle;\n",
       "    }\n",
       "\n",
       "    .dataframe tbody tr th {\n",
       "        vertical-align: top;\n",
       "    }\n",
       "\n",
       "    .dataframe thead th {\n",
       "        text-align: right;\n",
       "    }\n",
       "</style>\n",
       "<table border=\"1\" class=\"dataframe\">\n",
       "  <thead>\n",
       "    <tr style=\"text-align: right;\">\n",
       "      <th></th>\n",
       "      <th>weight</th>\n",
       "      <th>length</th>\n",
       "      <th>num_colors</th>\n",
       "    </tr>\n",
       "  </thead>\n",
       "  <tbody>\n",
       "    <tr>\n",
       "      <th>0</th>\n",
       "      <td>6</td>\n",
       "      <td>6</td>\n",
       "      <td>1</td>\n",
       "    </tr>\n",
       "    <tr>\n",
       "      <th>1</th>\n",
       "      <td>6</td>\n",
       "      <td>6</td>\n",
       "      <td>2</td>\n",
       "    </tr>\n",
       "    <tr>\n",
       "      <th>2</th>\n",
       "      <td>6</td>\n",
       "      <td>6</td>\n",
       "      <td>3</td>\n",
       "    </tr>\n",
       "    <tr>\n",
       "      <th>3</th>\n",
       "      <td>6</td>\n",
       "      <td>6</td>\n",
       "      <td>4</td>\n",
       "    </tr>\n",
       "    <tr>\n",
       "      <th>4</th>\n",
       "      <td>6</td>\n",
       "      <td>6</td>\n",
       "      <td>5</td>\n",
       "    </tr>\n",
       "  </tbody>\n",
       "</table>\n",
       "</div>"
      ],
      "text/plain": [
       "   weight  length  num_colors\n",
       "0       6       6           1\n",
       "1       6       6           2\n",
       "2       6       6           3\n",
       "3       6       6           4\n",
       "4       6       6           5"
      ]
     },
     "execution_count": 44,
     "metadata": {},
     "output_type": "execute_result"
    }
   ],
   "source": [
    "# Generating test data\n",
    "import pandas as pd\n",
    "\n",
    "INCHES_PER_UNIT = 15 * 12\n",
    "weight_list = list(range(6, 13))\n",
    "length_list = list(range(6, 15))\n",
    "color_list = list(range(1,10))\n",
    "data = []\n",
    "\n",
    "for weight in weight_list:\n",
    "    for length in length_list:\n",
    "            for color in color_list:\n",
    "                if color < weight:\n",
    "                    data.append([weight, length, color])\n",
    "\n",
    "\n",
    "df = pd.DataFrame(columns=['weight', 'length', 'num_colors'], data=data)\n",
    "\n",
    "df.head()"
   ]
  },
  {
   "cell_type": "code",
   "execution_count": null,
   "id": "d6183159a95f2b8",
   "metadata": {
    "ExecuteTime": {
     "end_time": "2025-09-09T20:08:18.000359Z",
     "start_time": "2025-09-09T20:08:17.998706Z"
    }
   },
   "outputs": [],
   "source": []
  },
  {
   "cell_type": "code",
   "execution_count": 45,
   "id": "2d882c8aae14bc92",
   "metadata": {
    "ExecuteTime": {
     "end_time": "2025-09-09T20:08:18.026041Z",
     "start_time": "2025-09-09T20:08:18.023354Z"
    }
   },
   "outputs": [],
   "source": [
    "# Adding building stats to df\n",
    "generated_columns = ['get_segment_length', 'get_num_segments', 'get_num_units_raw']\n",
    "df_build_stats = df.copy()\n",
    "df_build_stats['get_segment_length'] = df['length'] + 8\n",
    "df_build_stats['get_num_segments'] = df['weight'] / 2\n",
    "df_build_stats['get_segments_per_color'] = df_build_stats['get_num_segments'] / df['num_colors']\n",
    "df_build_stats['get_total_length'] = df_build_stats['get_segment_length'] * df_build_stats['get_num_segments']\n",
    "df_build_stats['get_num_units_raw'] = df_build_stats['get_total_length'] / INCHES_PER_UNIT\n",
    "df_build_stats['get_length_per_color'] = df_build_stats['get_segment_length'] * df_build_stats['get_num_segments']\n",
    "\n"
   ]
  },
  {
   "cell_type": "markdown",
   "id": "3769552a6c0a4763",
   "metadata": {},
   "source": [
    "#### Segment Length vs Material Count"
   ]
  },
  {
   "cell_type": "code",
   "execution_count": 46,
   "id": "3616bebc4f6a33e4",
   "metadata": {
    "ExecuteTime": {
     "end_time": "2025-09-09T20:08:18.094298Z",
     "start_time": "2025-09-09T20:08:18.048397Z"
    }
   },
   "outputs": [
    {
     "data": {
      "image/png": "[encoded data removed]",
      "text/plain": [
       "<Figure size 640x480 with 1 Axes>"
      ]
     },
     "metadata": {},
     "output_type": "display_data"
    }
   ],
   "source": [
    "import seaborn as sns\n",
    "\n",
    "sns.boxplot(data=df_build_stats, x='get_segment_length', y='get_num_units_raw');"
   ]
  },
  {
   "cell_type": "code",
   "execution_count": 47,
   "id": "cb0ec3b21a5cae14",
   "metadata": {
    "ExecuteTime": {
     "end_time": "2025-09-09T20:08:18.109457Z",
     "start_time": "2025-09-09T20:08:18.103548Z"
    }
   },
   "outputs": [
    {
     "data": {
      "text/html": [
       "<div>\n",
       "<style scoped>\n",
       "    .dataframe tbody tr th:only-of-type {\n",
       "        vertical-align: middle;\n",
       "    }\n",
       "\n",
       "    .dataframe tbody tr th {\n",
       "        vertical-align: top;\n",
       "    }\n",
       "\n",
       "    .dataframe thead th {\n",
       "        text-align: right;\n",
       "    }\n",
       "</style>\n",
       "<table border=\"1\" class=\"dataframe\">\n",
       "  <thead>\n",
       "    <tr style=\"text-align: right;\">\n",
       "      <th></th>\n",
       "      <th>weight</th>\n",
       "      <th>length</th>\n",
       "      <th>num_colors</th>\n",
       "      <th>price</th>\n",
       "      <th>num_units</th>\n",
       "      <th>num_units_rounded</th>\n",
       "      <th>material_loss</th>\n",
       "      <th>material_length</th>\n",
       "      <th>cost</th>\n",
       "      <th>profit</th>\n",
       "    </tr>\n",
       "  </thead>\n",
       "  <tbody>\n",
       "    <tr>\n",
       "      <th>0</th>\n",
       "      <td>6</td>\n",
       "      <td>6</td>\n",
       "      <td>1</td>\n",
       "      <td>40</td>\n",
       "      <td>0.2</td>\n",
       "      <td>0.25</td>\n",
       "      <td>0.05</td>\n",
       "      <td>42.0</td>\n",
       "      <td>3.1</td>\n",
       "      <td>36.9</td>\n",
       "    </tr>\n",
       "    <tr>\n",
       "      <th>1</th>\n",
       "      <td>6</td>\n",
       "      <td>6</td>\n",
       "      <td>2</td>\n",
       "      <td>45</td>\n",
       "      <td>0.4</td>\n",
       "      <td>0.50</td>\n",
       "      <td>0.10</td>\n",
       "      <td>42.0</td>\n",
       "      <td>6.2</td>\n",
       "      <td>38.8</td>\n",
       "    </tr>\n",
       "    <tr>\n",
       "      <th>2</th>\n",
       "      <td>6</td>\n",
       "      <td>6</td>\n",
       "      <td>3</td>\n",
       "      <td>50</td>\n",
       "      <td>0.6</td>\n",
       "      <td>0.75</td>\n",
       "      <td>0.15</td>\n",
       "      <td>42.0</td>\n",
       "      <td>9.3</td>\n",
       "      <td>40.7</td>\n",
       "    </tr>\n",
       "    <tr>\n",
       "      <th>3</th>\n",
       "      <td>6</td>\n",
       "      <td>6</td>\n",
       "      <td>4</td>\n",
       "      <td>55</td>\n",
       "      <td>0.8</td>\n",
       "      <td>1.00</td>\n",
       "      <td>0.20</td>\n",
       "      <td>42.0</td>\n",
       "      <td>12.4</td>\n",
       "      <td>42.6</td>\n",
       "    </tr>\n",
       "    <tr>\n",
       "      <th>4</th>\n",
       "      <td>6</td>\n",
       "      <td>6</td>\n",
       "      <td>5</td>\n",
       "      <td>60</td>\n",
       "      <td>1.0</td>\n",
       "      <td>1.25</td>\n",
       "      <td>0.25</td>\n",
       "      <td>42.0</td>\n",
       "      <td>15.5</td>\n",
       "      <td>44.5</td>\n",
       "    </tr>\n",
       "  </tbody>\n",
       "</table>\n",
       "</div>"
      ],
      "text/plain": [
       "   weight  length  num_colors  price  num_units  num_units_rounded  \\\n",
       "0       6       6           1     40        0.2               0.25   \n",
       "1       6       6           2     45        0.4               0.50   \n",
       "2       6       6           3     50        0.6               0.75   \n",
       "3       6       6           4     55        0.8               1.00   \n",
       "4       6       6           5     60        1.0               1.25   \n",
       "\n",
       "   material_loss  material_length  cost  profit  \n",
       "0           0.05             42.0   3.1    36.9  \n",
       "1           0.10             42.0   6.2    38.8  \n",
       "2           0.15             42.0   9.3    40.7  \n",
       "3           0.20             42.0  12.4    42.6  \n",
       "4           0.25             42.0  15.5    44.5  "
      ]
     },
     "execution_count": 47,
     "metadata": {},
     "output_type": "execute_result"
    }
   ],
   "source": [
    "# Verifying that there is still a profit margin in the worst case scenarios.\n",
    "df_price = df.copy()\n",
    "COST_PER_UNIT = (15 / 2) + 8 #Two units per order plus shipping and handling\n",
    "PROCESS_TIME_PER_ORDER = .45\n",
    "COST_PER_COLOR = 5\n",
    "df_price['price'] = 35 + df_price['num_colors'] * COST_PER_COLOR\n",
    "df_price['num_units'] = df_build_stats['get_num_units_raw'].round(1) * df_build_stats['num_colors']\n",
    "df_price['num_units_rounded'] = np.ceil(df_build_stats['get_num_units_raw'] * 4)/4 * df_build_stats['num_colors']\n",
    "df_price['material_loss'] = df_price['num_units_rounded'] - df_price['num_units']\n",
    "df_price['material_length'] = df_build_stats['get_segment_length'] * df_build_stats['get_num_segments']\n",
    "df_price['cost']= df_price['num_units'] * COST_PER_UNIT\n",
    "df_price['profit']= df_price['price'] - df_price['cost']\n",
    "df_price.head()\n"
   ]
  },
  {
   "cell_type": "markdown",
   "id": "6c4d056bf9acd12d",
   "metadata": {},
   "source": [
    "#### Lowest Profit Items"
   ]
  },
  {
   "cell_type": "code",
   "execution_count": 48,
   "id": "1ae38cb9dfd8804f",
   "metadata": {
    "ExecuteTime": {
     "end_time": "2025-09-09T20:08:18.137158Z",
     "start_time": "2025-09-09T20:08:18.133110Z"
    }
   },
   "outputs": [
    {
     "data": {
      "text/html": [
       "<div>\n",
       "<style scoped>\n",
       "    .dataframe tbody tr th:only-of-type {\n",
       "        vertical-align: middle;\n",
       "    }\n",
       "\n",
       "    .dataframe tbody tr th {\n",
       "        vertical-align: top;\n",
       "    }\n",
       "\n",
       "    .dataframe thead th {\n",
       "        text-align: right;\n",
       "    }\n",
       "</style>\n",
       "<table border=\"1\" class=\"dataframe\">\n",
       "  <thead>\n",
       "    <tr style=\"text-align: right;\">\n",
       "      <th></th>\n",
       "      <th>weight</th>\n",
       "      <th>length</th>\n",
       "      <th>num_colors</th>\n",
       "      <th>price</th>\n",
       "      <th>num_units</th>\n",
       "      <th>num_units_rounded</th>\n",
       "      <th>material_loss</th>\n",
       "      <th>material_length</th>\n",
       "      <th>cost</th>\n",
       "      <th>profit</th>\n",
       "    </tr>\n",
       "  </thead>\n",
       "  <tbody>\n",
       "    <tr>\n",
       "      <th>476</th>\n",
       "      <td>12</td>\n",
       "      <td>14</td>\n",
       "      <td>9</td>\n",
       "      <td>80</td>\n",
       "      <td>6.3</td>\n",
       "      <td>6.75</td>\n",
       "      <td>0.45</td>\n",
       "      <td>132.0</td>\n",
       "      <td>97.65</td>\n",
       "      <td>-17.65</td>\n",
       "    </tr>\n",
       "    <tr>\n",
       "      <th>458</th>\n",
       "      <td>12</td>\n",
       "      <td>12</td>\n",
       "      <td>9</td>\n",
       "      <td>80</td>\n",
       "      <td>6.3</td>\n",
       "      <td>6.75</td>\n",
       "      <td>0.45</td>\n",
       "      <td>120.0</td>\n",
       "      <td>97.65</td>\n",
       "      <td>-17.65</td>\n",
       "    </tr>\n",
       "    <tr>\n",
       "      <th>467</th>\n",
       "      <td>12</td>\n",
       "      <td>13</td>\n",
       "      <td>9</td>\n",
       "      <td>80</td>\n",
       "      <td>6.3</td>\n",
       "      <td>6.75</td>\n",
       "      <td>0.45</td>\n",
       "      <td>126.0</td>\n",
       "      <td>97.65</td>\n",
       "      <td>-17.65</td>\n",
       "    </tr>\n",
       "    <tr>\n",
       "      <th>395</th>\n",
       "      <td>11</td>\n",
       "      <td>14</td>\n",
       "      <td>9</td>\n",
       "      <td>80</td>\n",
       "      <td>6.3</td>\n",
       "      <td>6.75</td>\n",
       "      <td>0.45</td>\n",
       "      <td>121.0</td>\n",
       "      <td>97.65</td>\n",
       "      <td>-17.65</td>\n",
       "    </tr>\n",
       "    <tr>\n",
       "      <th>457</th>\n",
       "      <td>12</td>\n",
       "      <td>12</td>\n",
       "      <td>8</td>\n",
       "      <td>75</td>\n",
       "      <td>5.6</td>\n",
       "      <td>6.00</td>\n",
       "      <td>0.40</td>\n",
       "      <td>120.0</td>\n",
       "      <td>86.80</td>\n",
       "      <td>-11.80</td>\n",
       "    </tr>\n",
       "  </tbody>\n",
       "</table>\n",
       "</div>"
      ],
      "text/plain": [
       "     weight  length  num_colors  price  num_units  num_units_rounded  \\\n",
       "476      12      14           9     80        6.3               6.75   \n",
       "458      12      12           9     80        6.3               6.75   \n",
       "467      12      13           9     80        6.3               6.75   \n",
       "395      11      14           9     80        6.3               6.75   \n",
       "457      12      12           8     75        5.6               6.00   \n",
       "\n",
       "     material_loss  material_length   cost  profit  \n",
       "476           0.45            132.0  97.65  -17.65  \n",
       "458           0.45            120.0  97.65  -17.65  \n",
       "467           0.45            126.0  97.65  -17.65  \n",
       "395           0.45            121.0  97.65  -17.65  \n",
       "457           0.40            120.0  86.80  -11.80  "
      ]
     },
     "execution_count": 48,
     "metadata": {},
     "output_type": "execute_result"
    }
   ],
   "source": [
    "df_price.sort_values(by=['profit'], ascending=True, inplace=True)\n",
    "df_price.head()"
   ]
  },
  {
   "cell_type": "code",
   "execution_count": 49,
   "id": "b5993ea149836368",
   "metadata": {
    "ExecuteTime": {
     "end_time": "2025-09-09T20:08:18.176933Z",
     "start_time": "2025-09-09T20:08:18.174233Z"
    }
   },
   "outputs": [
    {
     "name": "stdout",
     "output_type": "stream",
     "text": [
      "Lowest Profit:  -17.6\n",
      "Highest Profit:  44.5\n",
      "Mean Profit:  23.81\n",
      "Median Profit:  27.8\n",
      "Hourly Profit:  52.91\n",
      "Mean Material Loss:  0.49\n"
     ]
    }
   ],
   "source": [
    "meanProfit = df_price.profit.mean()\n",
    "print(\"Lowest Profit: \",df_price.profit.min().round(1))\n",
    "print(\"Highest Profit: \",df_price.profit.max().round(2))\n",
    "print(\"Mean Profit: \",df_price.profit.mean().round(2))\n",
    "print(\"Median Profit: \",df_price.profit.median().round(2))\n",
    "print(\"Hourly Profit: \", (df_price.profit.mean() / PROCESS_TIME_PER_ORDER).round(2))\n",
    "print(\"Mean Material Loss: \",df_price.material_loss.mean().round(2))"
   ]
  },
  {
   "cell_type": "markdown",
   "id": "2b79049bee859004",
   "metadata": {},
   "source": [
    "#### Observations\n",
    "- There is only a negative profit on one of the items in the chart it used some fairly unrealistic values.\n",
    "- The mean profit for this data set is 23.81\n",
    "- The units with the lowest profit all have weight > 10 and length > 11\n",
    "- The mean material loss is 0.16 units, but assumes the client doesn't reuse any scrap materials.\n"
   ]
  },
  {
   "cell_type": "markdown",
   "id": "a17b84856c030f6e",
   "metadata": {},
   "source": [
    "### Profit Graph Plots"
   ]
  },
  {
   "cell_type": "markdown",
   "id": "eb8e74d20040532a",
   "metadata": {},
   "source": [
    "#### Profit by count"
   ]
  },
  {
   "cell_type": "code",
   "execution_count": 50,
   "id": "abefd98751fff30b",
   "metadata": {
    "ExecuteTime": {
     "end_time": "2025-09-09T20:08:18.304276Z",
     "start_time": "2025-09-09T20:08:18.217202Z"
    }
   },
   "outputs": [
    {
     "data": {
      "image/png": "[encoded data removed]",
      "text/plain": [
       "<Figure size 640x480 with 1 Axes>"
      ]
     },
     "metadata": {},
     "output_type": "display_data"
    }
   ],
   "source": [
    "sns.histplot(x='profit', data=df_price);"
   ]
  },
  {
   "cell_type": "markdown",
   "id": "85dd26b8c35e64c3",
   "metadata": {},
   "source": [
    "Creating derived field order_size which is calculated by adding the length, weight, and num_colors for each order."
   ]
  },
  {
   "cell_type": "code",
   "execution_count": 51,
   "id": "b0ec7f2a769f86ff",
   "metadata": {
    "ExecuteTime": {
     "end_time": "2025-09-09T20:08:18.340690Z",
     "start_time": "2025-09-09T20:08:18.307559Z"
    }
   },
   "outputs": [
    {
     "data": {
      "image/png": "[encoded data removed]",
      "text/plain": [
       "<Figure size 640x480 with 1 Axes>"
      ]
     },
     "metadata": {},
     "output_type": "display_data"
    }
   ],
   "source": [
    "# Creating single metric for order size for future graphs\n",
    "df_price['order_size'] = df_price['length'] + df_price['weight'] + df_price['num_colors']\n",
    "sns.histplot(data=df_price, x='order_size', y='material_loss');"
   ]
  },
  {
   "cell_type": "code",
   "execution_count": 52,
   "id": "696719a2cd725845",
   "metadata": {
    "ExecuteTime": {
     "end_time": "2025-09-09T20:08:18.416772Z",
     "start_time": "2025-09-09T20:08:18.349352Z"
    }
   },
   "outputs": [
    {
     "data": {
      "image/png": "[encoded data removed]",
      "text/plain": [
       "<Figure size 640x480 with 1 Axes>"
      ]
     },
     "metadata": {},
     "output_type": "display_data"
    }
   ],
   "source": [
    "sns.histplot(data=df_price, x='order_size', y='profit', hue='num_colors', palette='viridis');"
   ]
  },
  {
   "cell_type": "code",
   "execution_count": 53,
   "id": "f48532b42f43ff3b",
   "metadata": {
    "ExecuteTime": {
     "end_time": "2025-09-09T20:08:18.436620Z",
     "start_time": "2025-09-09T20:08:18.431144Z"
    }
   },
   "outputs": [
    {
     "data": {
      "text/html": [
       "<div>\n",
       "<style scoped>\n",
       "    .dataframe tbody tr th:only-of-type {\n",
       "        vertical-align: middle;\n",
       "    }\n",
       "\n",
       "    .dataframe tbody tr th {\n",
       "        vertical-align: top;\n",
       "    }\n",
       "\n",
       "    .dataframe thead th {\n",
       "        text-align: right;\n",
       "    }\n",
       "</style>\n",
       "<table border=\"1\" class=\"dataframe\">\n",
       "  <thead>\n",
       "    <tr style=\"text-align: right;\">\n",
       "      <th></th>\n",
       "      <th>length</th>\n",
       "      <th>weight</th>\n",
       "      <th>num_colors</th>\n",
       "      <th>order_size</th>\n",
       "      <th>price</th>\n",
       "      <th>profit</th>\n",
       "    </tr>\n",
       "  </thead>\n",
       "  <tbody>\n",
       "    <tr>\n",
       "      <th>476</th>\n",
       "      <td>14</td>\n",
       "      <td>12</td>\n",
       "      <td>9</td>\n",
       "      <td>35</td>\n",
       "      <td>95</td>\n",
       "      <td>-2.65</td>\n",
       "    </tr>\n",
       "    <tr>\n",
       "      <th>458</th>\n",
       "      <td>12</td>\n",
       "      <td>12</td>\n",
       "      <td>9</td>\n",
       "      <td>33</td>\n",
       "      <td>95</td>\n",
       "      <td>-2.65</td>\n",
       "    </tr>\n",
       "    <tr>\n",
       "      <th>467</th>\n",
       "      <td>13</td>\n",
       "      <td>12</td>\n",
       "      <td>9</td>\n",
       "      <td>34</td>\n",
       "      <td>95</td>\n",
       "      <td>-2.65</td>\n",
       "    </tr>\n",
       "    <tr>\n",
       "      <th>395</th>\n",
       "      <td>14</td>\n",
       "      <td>11</td>\n",
       "      <td>9</td>\n",
       "      <td>34</td>\n",
       "      <td>95</td>\n",
       "      <td>-2.65</td>\n",
       "    </tr>\n",
       "    <tr>\n",
       "      <th>457</th>\n",
       "      <td>12</td>\n",
       "      <td>12</td>\n",
       "      <td>8</td>\n",
       "      <td>32</td>\n",
       "      <td>90</td>\n",
       "      <td>3.20</td>\n",
       "    </tr>\n",
       "    <tr>\n",
       "      <th>...</th>\n",
       "      <td>...</td>\n",
       "      <td>...</td>\n",
       "      <td>...</td>\n",
       "      <td>...</td>\n",
       "      <td>...</td>\n",
       "      <td>...</td>\n",
       "    </tr>\n",
       "    <tr>\n",
       "      <th>2</th>\n",
       "      <td>6</td>\n",
       "      <td>6</td>\n",
       "      <td>3</td>\n",
       "      <td>15</td>\n",
       "      <td>50</td>\n",
       "      <td>40.70</td>\n",
       "    </tr>\n",
       "    <tr>\n",
       "      <th>8</th>\n",
       "      <td>7</td>\n",
       "      <td>6</td>\n",
       "      <td>4</td>\n",
       "      <td>17</td>\n",
       "      <td>55</td>\n",
       "      <td>42.60</td>\n",
       "    </tr>\n",
       "    <tr>\n",
       "      <th>3</th>\n",
       "      <td>6</td>\n",
       "      <td>6</td>\n",
       "      <td>4</td>\n",
       "      <td>16</td>\n",
       "      <td>55</td>\n",
       "      <td>42.60</td>\n",
       "    </tr>\n",
       "    <tr>\n",
       "      <th>9</th>\n",
       "      <td>7</td>\n",
       "      <td>6</td>\n",
       "      <td>5</td>\n",
       "      <td>18</td>\n",
       "      <td>60</td>\n",
       "      <td>44.50</td>\n",
       "    </tr>\n",
       "    <tr>\n",
       "      <th>4</th>\n",
       "      <td>6</td>\n",
       "      <td>6</td>\n",
       "      <td>5</td>\n",
       "      <td>17</td>\n",
       "      <td>60</td>\n",
       "      <td>44.50</td>\n",
       "    </tr>\n",
       "  </tbody>\n",
       "</table>\n",
       "<p>477 rows × 6 columns</p>\n",
       "</div>"
      ],
      "text/plain": [
       "     length  weight  num_colors  order_size  price  profit\n",
       "476      14      12           9          35     95   -2.65\n",
       "458      12      12           9          33     95   -2.65\n",
       "467      13      12           9          34     95   -2.65\n",
       "395      14      11           9          34     95   -2.65\n",
       "457      12      12           8          32     90    3.20\n",
       "..      ...     ...         ...         ...    ...     ...\n",
       "2         6       6           3          15     50   40.70\n",
       "8         7       6           4          17     55   42.60\n",
       "3         6       6           4          16     55   42.60\n",
       "9         7       6           5          18     60   44.50\n",
       "4         6       6           5          17     60   44.50\n",
       "\n",
       "[477 rows x 6 columns]"
      ]
     },
     "execution_count": 53,
     "metadata": {},
     "output_type": "execute_result"
    }
   ],
   "source": [
    "df_price2 = df_price.copy()\n",
    "df_price2.loc[df_price['order_size'] > 25, 'price' ] = df_price['price'] + 15\n",
    "df_price2.loc[df_price['order_size'] > 25, 'profit' ] = df_price['profit'] + 15\n",
    "price_stats = ['length', 'weight', 'num_colors', 'order_size', 'price', 'profit']\n",
    "df_price2[price_stats]"
   ]
  },
  {
   "attachments": {},
   "cell_type": "markdown",
   "id": "bd583a4103ded138",
   "metadata": {},
   "source": [
    "\n",
    "#### Observations\n",
    "\n",
    "- As order size goes up material_loss goes up.\n",
    "- When order_size is over 25 orders stop being profitable.\n",
    "- A 15 dollar surcharge is enough to cover the extra material cost on all but the largest orders.\n",
    "- Orders with extra large values for order_size are unrealistic orders so they are safe to remove from the set.\n",
    "\n",
    "#### Proposal\n",
    "- Add a 15 dollar surcharge for orders with order_size over 25"
   ]
  },
  {
   "cell_type": "code",
   "execution_count": 54,
   "id": "c96e8734a432bb7",
   "metadata": {
    "ExecuteTime": {
     "end_time": "2025-09-09T20:08:18.469050Z",
     "start_time": "2025-09-09T20:08:18.465324Z"
    }
   },
   "outputs": [
    {
     "name": "stdout",
     "output_type": "stream",
     "text": [
      "Removing all orders with order_size > 30 from the dataset\n"
     ]
    },
    {
     "data": {
      "text/html": [
       "<div>\n",
       "<style scoped>\n",
       "    .dataframe tbody tr th:only-of-type {\n",
       "        vertical-align: middle;\n",
       "    }\n",
       "\n",
       "    .dataframe tbody tr th {\n",
       "        vertical-align: top;\n",
       "    }\n",
       "\n",
       "    .dataframe thead th {\n",
       "        text-align: right;\n",
       "    }\n",
       "</style>\n",
       "<table border=\"1\" class=\"dataframe\">\n",
       "  <thead>\n",
       "    <tr style=\"text-align: right;\">\n",
       "      <th></th>\n",
       "      <th>length</th>\n",
       "      <th>weight</th>\n",
       "      <th>num_colors</th>\n",
       "      <th>order_size</th>\n",
       "      <th>price</th>\n",
       "      <th>profit</th>\n",
       "    </tr>\n",
       "  </thead>\n",
       "  <tbody>\n",
       "    <tr>\n",
       "      <th>430</th>\n",
       "      <td>9</td>\n",
       "      <td>12</td>\n",
       "      <td>8</td>\n",
       "      <td>29</td>\n",
       "      <td>90</td>\n",
       "      <td>15.6</td>\n",
       "    </tr>\n",
       "    <tr>\n",
       "      <th>358</th>\n",
       "      <td>10</td>\n",
       "      <td>11</td>\n",
       "      <td>8</td>\n",
       "      <td>29</td>\n",
       "      <td>90</td>\n",
       "      <td>15.6</td>\n",
       "    </tr>\n",
       "    <tr>\n",
       "      <th>438</th>\n",
       "      <td>10</td>\n",
       "      <td>12</td>\n",
       "      <td>7</td>\n",
       "      <td>29</td>\n",
       "      <td>85</td>\n",
       "      <td>19.9</td>\n",
       "    </tr>\n",
       "    <tr>\n",
       "      <th>357</th>\n",
       "      <td>10</td>\n",
       "      <td>11</td>\n",
       "      <td>7</td>\n",
       "      <td>28</td>\n",
       "      <td>85</td>\n",
       "      <td>19.9</td>\n",
       "    </tr>\n",
       "    <tr>\n",
       "      <th>429</th>\n",
       "      <td>9</td>\n",
       "      <td>12</td>\n",
       "      <td>7</td>\n",
       "      <td>28</td>\n",
       "      <td>85</td>\n",
       "      <td>19.9</td>\n",
       "    </tr>\n",
       "  </tbody>\n",
       "</table>\n",
       "</div>"
      ],
      "text/plain": [
       "     length  weight  num_colors  order_size  price  profit\n",
       "430       9      12           8          29     90    15.6\n",
       "358      10      11           8          29     90    15.6\n",
       "438      10      12           7          29     85    19.9\n",
       "357      10      11           7          28     85    19.9\n",
       "429       9      12           7          28     85    19.9"
      ]
     },
     "execution_count": 54,
     "metadata": {},
     "output_type": "execute_result"
    }
   ],
   "source": [
    "MAX_ORDER_SIZE = 30\n",
    "df_price2 =df_price2[df_price2['order_size'] < MAX_ORDER_SIZE]\n",
    "print(f\"Removing all orders with order_size > {MAX_ORDER_SIZE} from the dataset\")\n",
    "df_price2[price_stats].head()"
   ]
  },
  {
   "cell_type": "markdown",
   "id": "b19556e148d90701",
   "metadata": {},
   "source": [
    "### Price 1 Profit Chart"
   ]
  },
  {
   "cell_type": "code",
   "execution_count": 55,
   "id": "2b04fde313b64847",
   "metadata": {
    "ExecuteTime": {
     "end_time": "2025-09-09T20:08:18.584745Z",
     "start_time": "2025-09-09T20:08:18.514659Z"
    }
   },
   "outputs": [
    {
     "data": {
      "image/png": "[encoded data removed]",
      "text/plain": [
       "<Figure size 640x480 with 1 Axes>"
      ]
     },
     "metadata": {},
     "output_type": "display_data"
    }
   ],
   "source": [
    "sns.histplot(data=df_price, x='order_size', y='profit', hue='num_colors', palette='viridis');"
   ]
  },
  {
   "cell_type": "markdown",
   "id": "53c70539de60432",
   "metadata": {},
   "source": [
    "### Price 2 Profit Chart"
   ]
  },
  {
   "cell_type": "code",
   "execution_count": 56,
   "id": "a3e7a7c452b7bf2e",
   "metadata": {
    "ExecuteTime": {
     "end_time": "2025-09-09T20:08:18.674385Z",
     "start_time": "2025-09-09T20:08:18.604110Z"
    }
   },
   "outputs": [
    {
     "data": {
      "image/png": "[encoded data removed]",
      "text/plain": [
       "<Figure size 640x480 with 1 Axes>"
      ]
     },
     "metadata": {},
     "output_type": "display_data"
    }
   ],
   "source": [
    "sns.histplot(data=df_price2, x='order_size', y='profit', hue='num_colors', palette='viridis');"
   ]
  },
  {
   "cell_type": "markdown",
   "id": "2c2d52228bb0cf3e",
   "metadata": {},
   "source": [
    "### Conclusion\n",
    "- Based on the observations this product should be fairly profitable for the client.\n",
    "- Client should do additional research to find the best place to market their product.\n",
    "- Vendor could eliminate unprofitable sales in the following ways:\n",
    "- A. Adding a surcharge for orders with order_size > 25\n",
    "- B. Putting a max limit on values for order_size.\n"
   ]
  },
  {
   "cell_type": "markdown",
   "id": "d548cc639a3000c7",
   "metadata": {},
   "source": [
    "## Additional Thoughts\n",
    "- Since orders_size is a derived value we could add the order surcharge to the two fields it's derived from."
   ]
  },
  {
   "cell_type": "code",
   "execution_count": 64,
   "id": "87339dc314f8f7c4",
   "metadata": {
    "ExecuteTime": {
     "end_time": "2025-09-09T20:09:24.866533Z",
     "start_time": "2025-09-09T20:09:24.858857Z"
    }
   },
   "outputs": [
    {
     "name": "stdout",
     "output_type": "stream",
     "text": [
      "Removing all orders with order_size > 30 from the dataset\n"
     ]
    },
    {
     "data": {
      "text/html": [
       "<div>\n",
       "<style scoped>\n",
       "    .dataframe tbody tr th:only-of-type {\n",
       "        vertical-align: middle;\n",
       "    }\n",
       "\n",
       "    .dataframe tbody tr th {\n",
       "        vertical-align: top;\n",
       "    }\n",
       "\n",
       "    .dataframe thead th {\n",
       "        text-align: right;\n",
       "    }\n",
       "</style>\n",
       "<table border=\"1\" class=\"dataframe\">\n",
       "  <thead>\n",
       "    <tr style=\"text-align: right;\">\n",
       "      <th></th>\n",
       "      <th>length</th>\n",
       "      <th>weight</th>\n",
       "      <th>num_colors</th>\n",
       "      <th>order_size</th>\n",
       "      <th>price</th>\n",
       "      <th>profit</th>\n",
       "    </tr>\n",
       "  </thead>\n",
       "  <tbody>\n",
       "    <tr>\n",
       "      <th>430</th>\n",
       "      <td>9</td>\n",
       "      <td>12</td>\n",
       "      <td>8</td>\n",
       "      <td>29</td>\n",
       "      <td>75</td>\n",
       "      <td>0.6</td>\n",
       "    </tr>\n",
       "    <tr>\n",
       "      <th>358</th>\n",
       "      <td>10</td>\n",
       "      <td>11</td>\n",
       "      <td>8</td>\n",
       "      <td>29</td>\n",
       "      <td>75</td>\n",
       "      <td>0.6</td>\n",
       "    </tr>\n",
       "    <tr>\n",
       "      <th>438</th>\n",
       "      <td>10</td>\n",
       "      <td>12</td>\n",
       "      <td>7</td>\n",
       "      <td>29</td>\n",
       "      <td>70</td>\n",
       "      <td>4.9</td>\n",
       "    </tr>\n",
       "    <tr>\n",
       "      <th>357</th>\n",
       "      <td>10</td>\n",
       "      <td>11</td>\n",
       "      <td>7</td>\n",
       "      <td>28</td>\n",
       "      <td>70</td>\n",
       "      <td>4.9</td>\n",
       "    </tr>\n",
       "    <tr>\n",
       "      <th>429</th>\n",
       "      <td>9</td>\n",
       "      <td>12</td>\n",
       "      <td>7</td>\n",
       "      <td>28</td>\n",
       "      <td>70</td>\n",
       "      <td>4.9</td>\n",
       "    </tr>\n",
       "  </tbody>\n",
       "</table>\n",
       "</div>"
      ],
      "text/plain": [
       "     length  weight  num_colors  order_size  price  profit\n",
       "430       9      12           8          29     75     0.6\n",
       "358      10      11           8          29     75     0.6\n",
       "438      10      12           7          29     70     4.9\n",
       "357      10      11           7          28     70     4.9\n",
       "429       9      12           7          28     70     4.9"
      ]
     },
     "execution_count": 64,
     "metadata": {},
     "output_type": "execute_result"
    }
   ],
   "source": [
    "df_price3 = df_price.copy()\n",
    "# Keeping Max Order Size param but adding surcharges to length and weight params.\n",
    "MAX_ORDER_SIZE = 30\n",
    "df_price3 =df_price3[df_price3['order_size'] < MAX_ORDER_SIZE]\n",
    "print(f\"Removing all orders with order_size > {MAX_ORDER_SIZE} from the dataset\")\n",
    "df_price3[price_stats].head()\n"
   ]
  },
  {
   "cell_type": "markdown",
   "id": "b9b41d593e7fb8d8",
   "metadata": {},
   "source": [
    "### Price 3 Profit Chart"
   ]
  },
  {
   "cell_type": "code",
   "execution_count": 62,
   "id": "a11ec01cde36443b",
   "metadata": {
    "ExecuteTime": {
     "end_time": "2025-09-09T20:08:47.841638Z",
     "start_time": "2025-09-09T20:08:47.761996Z"
    }
   },
   "outputs": [
    {
     "data": {
      "image/png": "[encoded data removed]",
      "text/plain": [
       "<Figure size 640x480 with 1 Axes>"
      ]
     },
     "metadata": {},
     "output_type": "display_data"
    }
   ],
   "source": [
    "print(f\"Adding $10 surcharge for orders with length > {DEFAULT_LENGTH}\")\n",
    "print(f\"Adding $10 surcharge for orders with weight > {DEFAULT_WEIGHT}\")\n",
    "df_price3.loc[df_price['length'] > DEFAULT_LENGTH, 'price' ] = df_price['price'] + 10\n",
    "df_price3.loc[df_price['length'] > DEFAULT_LENGTH, 'profit' ] = df_price['profit'] + 10\n",
    "df_price3.loc[df_price['weight'] > DEFAULT_WEIGHT, 'price' ] = df_price['price'] + 10\n",
    "df_price3.loc[df_price['weight'] > DEFAULT_WEIGHT, 'profit' ] = df_price['profit'] + 10\n",
    "sns.histplot(data=df_price3, x='order_size', y='profit', hue='num_colors', palette='viridis');"
   ]
  },
  {
   "cell_type": "code",
   "execution_count": 63,
   "id": "8bc3b22db34f49ed",
   "metadata": {
    "ExecuteTime": {
     "end_time": "2025-09-09T20:08:51.039577Z",
     "start_time": "2025-09-09T20:08:51.032613Z"
    }
   },
   "outputs": [
    {
     "data": {
      "text/html": [
       "<div>\n",
       "<style scoped>\n",
       "    .dataframe tbody tr th:only-of-type {\n",
       "        vertical-align: middle;\n",
       "    }\n",
       "\n",
       "    .dataframe tbody tr th {\n",
       "        vertical-align: top;\n",
       "    }\n",
       "\n",
       "    .dataframe thead th {\n",
       "        text-align: right;\n",
       "    }\n",
       "</style>\n",
       "<table border=\"1\" class=\"dataframe\">\n",
       "  <thead>\n",
       "    <tr style=\"text-align: right;\">\n",
       "      <th></th>\n",
       "      <th>length</th>\n",
       "      <th>weight</th>\n",
       "      <th>num_colors</th>\n",
       "      <th>order_size</th>\n",
       "      <th>price</th>\n",
       "      <th>profit</th>\n",
       "    </tr>\n",
       "  </thead>\n",
       "  <tbody>\n",
       "    <tr>\n",
       "      <th>430</th>\n",
       "      <td>9</td>\n",
       "      <td>12</td>\n",
       "      <td>8</td>\n",
       "      <td>29</td>\n",
       "      <td>85</td>\n",
       "      <td>10.6</td>\n",
       "    </tr>\n",
       "    <tr>\n",
       "      <th>358</th>\n",
       "      <td>10</td>\n",
       "      <td>11</td>\n",
       "      <td>8</td>\n",
       "      <td>29</td>\n",
       "      <td>85</td>\n",
       "      <td>10.6</td>\n",
       "    </tr>\n",
       "    <tr>\n",
       "      <th>438</th>\n",
       "      <td>10</td>\n",
       "      <td>12</td>\n",
       "      <td>7</td>\n",
       "      <td>29</td>\n",
       "      <td>80</td>\n",
       "      <td>14.9</td>\n",
       "    </tr>\n",
       "    <tr>\n",
       "      <th>357</th>\n",
       "      <td>10</td>\n",
       "      <td>11</td>\n",
       "      <td>7</td>\n",
       "      <td>28</td>\n",
       "      <td>80</td>\n",
       "      <td>14.9</td>\n",
       "    </tr>\n",
       "    <tr>\n",
       "      <th>429</th>\n",
       "      <td>9</td>\n",
       "      <td>12</td>\n",
       "      <td>7</td>\n",
       "      <td>28</td>\n",
       "      <td>80</td>\n",
       "      <td>14.9</td>\n",
       "    </tr>\n",
       "  </tbody>\n",
       "</table>\n",
       "</div>"
      ],
      "text/plain": [
       "     length  weight  num_colors  order_size  price  profit\n",
       "430       9      12           8          29     85    10.6\n",
       "358      10      11           8          29     85    10.6\n",
       "438      10      12           7          29     80    14.9\n",
       "357      10      11           7          28     80    14.9\n",
       "429       9      12           7          28     80    14.9"
      ]
     },
     "execution_count": 63,
     "metadata": {},
     "output_type": "execute_result"
    }
   ],
   "source": [
    "df_price3[price_stats].head()"
   ]
  },
  {
   "cell_type": "markdown",
   "id": "bf653fadd9eee243",
   "metadata": {},
   "source": [
    "### Final Conclusion\n",
    "- To ensure profitability we suggest the following:\n",
    "- A. Adding a surcharge to orders with length > 12\n",
    "- B. Adding a surcharge to orders with width > 8\n",
    "- C. Setting a max order_size of 30 on all orders"
   ]
  }
 ],
 "metadata": {
  "kernelspec": {
   "display_name": "Python 3 (ipykernel)",
   "language": "python",
   "name": "python3"
  },
  "language_info": {
   "codemirror_mode": {
    "name": "ipython",
    "version": 3
   },
   "file_extension": ".py",
   "mimetype": "text/x-python",
   "name": "python",
   "nbconvert_exporter": "python",
   "pygments_lexer": "ipython3",
   "version": "3.13.0"
  }
 },
 "nbformat": 4,
 "nbformat_minor": 5
}
