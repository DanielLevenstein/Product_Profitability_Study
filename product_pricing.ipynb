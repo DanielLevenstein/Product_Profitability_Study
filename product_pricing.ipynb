{
 "cells": [
  {
   "metadata": {},
   "cell_type": "markdown",
   "source": [
    "# Product Pricing Chart Case Study\n",
    "## Product A Pricing Chart\n",
    "\n",
    "- Product A has a raw material cost of around \\$7 and takes about 30 - 45 minutes of processing time to complete.\n",
    "- Product starts at 35 dollars and vendor is charging 5 dollars for each additional color used in construction.\n"
   ],
   "id": "bc23aad5d4968baf"
  },
  {
   "metadata": {
    "ExecuteTime": {
     "end_time": "2025-09-08T18:11:26.595684Z",
     "start_time": "2025-09-08T18:11:26.592710Z"
    }
   },
   "cell_type": "code",
   "source": [
    "# products start at $35 and cost $5 extra for each additional color\n",
    "import numpy as np\n",
    "# Define constants\n",
    "BASE_PRICE = 35\n",
    "DEFAULT_LENGTH = 12\n",
    "DEFAULT_COLOR_NUM = 1\n",
    "DEFAULT_WEIGHT = 8\n",
    "MATERIAL_LOSS = 8\n",
    "MATERIAL_PRICE_LIST = [14.94 / 2, 34.09 / 4, 48.60 / 10, 19.11 / 4]\n",
    "MATERIAL_PRICE = np.mean(MATERIAL_PRICE_LIST)\n",
    "print(f\"MATERIAL_PRICE: ${MATERIAL_PRICE.round(2)}\")"
   ],
   "id": "7ea78ae924463eaa",
   "outputs": [
    {
     "name": "stdout",
     "output_type": "stream",
     "text": [
      "MATERIAL_PRICE: $6.41\n"
     ]
    }
   ],
   "execution_count": 269
  },
  {
   "metadata": {},
   "cell_type": "markdown",
   "source": [
    "### Generating Test Data for analysis\n",
    "- Product has 3 parameters which can be customized for each user basis. Length, Weight, and Color.\n",
    "- In my generated test data I am maxing out on a length of 20 inches."
   ],
   "id": "88e1a75e47d0c59e"
  },
  {
   "metadata": {
    "ExecuteTime": {
     "end_time": "2025-09-08T18:11:26.622144Z",
     "start_time": "2025-09-08T18:11:26.618182Z"
    }
   },
   "cell_type": "code",
   "source": [
    "# Generating test data\n",
    "import pandas as pd\n",
    "\n",
    "weight_list = list(range(6, 13))\n",
    "length_list = list(range(6, 15))\n",
    "color_list = list(range(1,10))\n",
    "data = []\n",
    "\n",
    "for weight in weight_list:\n",
    "    for length in length_list:\n",
    "            for color in color_list:\n",
    "                if color < weight:\n",
    "                    data.append([weight, length, color])\n",
    "\n",
    "\n",
    "df = pd.DataFrame(columns=['weight', 'length', 'num_colors'], data=data)\n",
    "\n",
    "df.head()"
   ],
   "id": "6994942c2c59ff95",
   "outputs": [
    {
     "data": {
      "text/plain": [
       "   weight  length  num_colors\n",
       "0       6       6           1\n",
       "1       6       6           2\n",
       "2       6       6           3\n",
       "3       6       6           4\n",
       "4       6       6           5"
      ],
      "text/html": [
       "<div>\n",
       "<style scoped>\n",
       "    .dataframe tbody tr th:only-of-type {\n",
       "        vertical-align: middle;\n",
       "    }\n",
       "\n",
       "    .dataframe tbody tr th {\n",
       "        vertical-align: top;\n",
       "    }\n",
       "\n",
       "    .dataframe thead th {\n",
       "        text-align: right;\n",
       "    }\n",
       "</style>\n",
       "<table border=\"1\" class=\"dataframe\">\n",
       "  <thead>\n",
       "    <tr style=\"text-align: right;\">\n",
       "      <th></th>\n",
       "      <th>weight</th>\n",
       "      <th>length</th>\n",
       "      <th>num_colors</th>\n",
       "    </tr>\n",
       "  </thead>\n",
       "  <tbody>\n",
       "    <tr>\n",
       "      <th>0</th>\n",
       "      <td>6</td>\n",
       "      <td>6</td>\n",
       "      <td>1</td>\n",
       "    </tr>\n",
       "    <tr>\n",
       "      <th>1</th>\n",
       "      <td>6</td>\n",
       "      <td>6</td>\n",
       "      <td>2</td>\n",
       "    </tr>\n",
       "    <tr>\n",
       "      <th>2</th>\n",
       "      <td>6</td>\n",
       "      <td>6</td>\n",
       "      <td>3</td>\n",
       "    </tr>\n",
       "    <tr>\n",
       "      <th>3</th>\n",
       "      <td>6</td>\n",
       "      <td>6</td>\n",
       "      <td>4</td>\n",
       "    </tr>\n",
       "    <tr>\n",
       "      <th>4</th>\n",
       "      <td>6</td>\n",
       "      <td>6</td>\n",
       "      <td>5</td>\n",
       "    </tr>\n",
       "  </tbody>\n",
       "</table>\n",
       "</div>"
      ]
     },
     "execution_count": 270,
     "metadata": {},
     "output_type": "execute_result"
    }
   ],
   "execution_count": 270
  },
  {
   "metadata": {
    "ExecuteTime": {
     "end_time": "2025-09-08T18:11:26.654738Z",
     "start_time": "2025-09-08T18:11:26.653679Z"
    }
   },
   "cell_type": "code",
   "source": "",
   "id": "d6183159a95f2b8",
   "outputs": [],
   "execution_count": null
  },
  {
   "metadata": {
    "ExecuteTime": {
     "end_time": "2025-09-08T18:11:26.682601Z",
     "start_time": "2025-09-08T18:11:26.679998Z"
    }
   },
   "cell_type": "code",
   "source": [
    "# Adding building stats to df\n",
    "generated_columns = ['get_segment_length', 'get_num_segments', 'get_num_units_raw']\n",
    "df_build_stats = df.copy()\n",
    "df_build_stats['get_segment_length'] = df['length'] + 8\n",
    "df_build_stats['get_num_segments'] = df['weight'] / 2\n",
    "df_build_stats['get_segments_per_color'] = df_build_stats['get_num_segments'] / df['num_colors']\n",
    "df_build_stats['get_total_length'] = df_build_stats['get_segment_length'] * df_build_stats['get_num_segments']\n",
    "df_build_stats['get_num_units_raw'] = df_build_stats['get_total_length'] / INCHES_PER_COIL\n",
    "df_build_stats['get_length_per_color'] = df_build_stats['get_segment_length'] * df_build_stats['get_num_segments']\n",
    "\n"
   ],
   "id": "2d882c8aae14bc92",
   "outputs": [],
   "execution_count": 271
  },
  {
   "metadata": {},
   "cell_type": "markdown",
   "source": "#### Segment Length vs Material Count",
   "id": "3769552a6c0a4763"
  },
  {
   "metadata": {
    "ExecuteTime": {
     "end_time": "2025-09-08T18:11:26.752055Z",
     "start_time": "2025-09-08T18:11:26.707487Z"
    }
   },
   "cell_type": "code",
   "source": [
    "import seaborn as sns\n",
    "\n",
    "sns.boxplot(data=df_build_stats, x='get_segment_length', y='get_num_units_raw');"
   ],
   "id": "3616bebc4f6a33e4",
   "outputs": [
    {
     "data": {
      "text/plain": [
       "<Figure size 640x480 with 1 Axes>"
      ],
      "image/png": "[encoded data removed]"
     },
     "metadata": {},
     "output_type": "display_data"
    }
   ],
   "execution_count": 272
  },
  {
   "metadata": {},
   "cell_type": "markdown",
   "source": "#### Lowest Profit Items",
   "id": "6c4d056bf9acd12d"
  },
  {
   "metadata": {
    "ExecuteTime": {
     "end_time": "2025-09-08T18:11:26.769784Z",
     "start_time": "2025-09-08T18:11:26.762622Z"
    }
   },
   "cell_type": "code",
   "source": [
    "# Verifying that there is still a profit margin in the worst case scenarios.\n",
    "df_price = df.copy()\n",
    "COST_PER_UNIT = (15 / 2) + 8 #Two units per order plus shipping and handling\n",
    "INCHES_PER_UNIT = 15 * 12\n",
    "PROCESS_TIME_PER_ORDER = .45\n",
    "COST_PER_COLOR = 5\n",
    "df_price['price'] = 35 + df_price['num_colors'] * COST_PER_COLOR\n",
    "df_price['num_units'] = df_build_stats['get_num_units_raw'].round(1) * df_build_stats['num_colors']\n",
    "df_price['num_units_rounded'] = np.ceil(df_price.num_units / 2) * 2\n",
    "df_price['material_loss'] = df_price['num_units_rounded'] - df_price['num_units']\n",
    "df_price['material_length'] = df_build_stats['get_segment_length'] * df_build_stats['get_num_segments']\n",
    "df_price['cost']= df_price['num_units'] * COST_PER_UNIT\n",
    "df_price['profit']= df_price['price'] - df_price['cost']\n",
    "df_price.sort_values(by=['profit'], ascending=True, inplace=True)\n",
    "df_price.head()\n"
   ],
   "id": "cb0ec3b21a5cae14",
   "outputs": [
    {
     "data": {
      "text/plain": [
       "     weight  length  num_colors  price  num_units  num_units_rounded  \\\n",
       "476      12      14           9     80        6.3                8.0   \n",
       "458      12      12           9     80        6.3                8.0   \n",
       "467      12      13           9     80        6.3                8.0   \n",
       "395      11      14           9     80        6.3                8.0   \n",
       "457      12      12           8     75        5.6                6.0   \n",
       "\n",
       "     material_loss  material_length   cost  profit  \n",
       "476            1.7            132.0  97.65  -17.65  \n",
       "458            1.7            120.0  97.65  -17.65  \n",
       "467            1.7            126.0  97.65  -17.65  \n",
       "395            1.7            121.0  97.65  -17.65  \n",
       "457            0.4            120.0  86.80  -11.80  "
      ],
      "text/html": [
       "<div>\n",
       "<style scoped>\n",
       "    .dataframe tbody tr th:only-of-type {\n",
       "        vertical-align: middle;\n",
       "    }\n",
       "\n",
       "    .dataframe tbody tr th {\n",
       "        vertical-align: top;\n",
       "    }\n",
       "\n",
       "    .dataframe thead th {\n",
       "        text-align: right;\n",
       "    }\n",
       "</style>\n",
       "<table border=\"1\" class=\"dataframe\">\n",
       "  <thead>\n",
       "    <tr style=\"text-align: right;\">\n",
       "      <th></th>\n",
       "      <th>weight</th>\n",
       "      <th>length</th>\n",
       "      <th>num_colors</th>\n",
       "      <th>price</th>\n",
       "      <th>num_units</th>\n",
       "      <th>num_units_rounded</th>\n",
       "      <th>material_loss</th>\n",
       "      <th>material_length</th>\n",
       "      <th>cost</th>\n",
       "      <th>profit</th>\n",
       "    </tr>\n",
       "  </thead>\n",
       "  <tbody>\n",
       "    <tr>\n",
       "      <th>476</th>\n",
       "      <td>12</td>\n",
       "      <td>14</td>\n",
       "      <td>9</td>\n",
       "      <td>80</td>\n",
       "      <td>6.3</td>\n",
       "      <td>8.0</td>\n",
       "      <td>1.7</td>\n",
       "      <td>132.0</td>\n",
       "      <td>97.65</td>\n",
       "      <td>-17.65</td>\n",
       "    </tr>\n",
       "    <tr>\n",
       "      <th>458</th>\n",
       "      <td>12</td>\n",
       "      <td>12</td>\n",
       "      <td>9</td>\n",
       "      <td>80</td>\n",
       "      <td>6.3</td>\n",
       "      <td>8.0</td>\n",
       "      <td>1.7</td>\n",
       "      <td>120.0</td>\n",
       "      <td>97.65</td>\n",
       "      <td>-17.65</td>\n",
       "    </tr>\n",
       "    <tr>\n",
       "      <th>467</th>\n",
       "      <td>12</td>\n",
       "      <td>13</td>\n",
       "      <td>9</td>\n",
       "      <td>80</td>\n",
       "      <td>6.3</td>\n",
       "      <td>8.0</td>\n",
       "      <td>1.7</td>\n",
       "      <td>126.0</td>\n",
       "      <td>97.65</td>\n",
       "      <td>-17.65</td>\n",
       "    </tr>\n",
       "    <tr>\n",
       "      <th>395</th>\n",
       "      <td>11</td>\n",
       "      <td>14</td>\n",
       "      <td>9</td>\n",
       "      <td>80</td>\n",
       "      <td>6.3</td>\n",
       "      <td>8.0</td>\n",
       "      <td>1.7</td>\n",
       "      <td>121.0</td>\n",
       "      <td>97.65</td>\n",
       "      <td>-17.65</td>\n",
       "    </tr>\n",
       "    <tr>\n",
       "      <th>457</th>\n",
       "      <td>12</td>\n",
       "      <td>12</td>\n",
       "      <td>8</td>\n",
       "      <td>75</td>\n",
       "      <td>5.6</td>\n",
       "      <td>6.0</td>\n",
       "      <td>0.4</td>\n",
       "      <td>120.0</td>\n",
       "      <td>86.80</td>\n",
       "      <td>-11.80</td>\n",
       "    </tr>\n",
       "  </tbody>\n",
       "</table>\n",
       "</div>"
      ]
     },
     "execution_count": 273,
     "metadata": {},
     "output_type": "execute_result"
    }
   ],
   "execution_count": 273
  },
  {
   "metadata": {
    "ExecuteTime": {
     "end_time": "2025-09-08T18:11:26.799777Z",
     "start_time": "2025-09-08T18:11:26.797560Z"
    }
   },
   "cell_type": "code",
   "source": [
    "meanProfit = df_price.profit.mean()\n",
    "print(\"Lowest Profit: \",df_price.profit.min().round(1))\n",
    "print(\"Highest Profit: \",df_price.profit.max().round(2))\n",
    "print(\"Mean Profit: \",df_price.profit.mean().round(2))\n",
    "print(\"Median Profit: \",df_price.profit.median().round(2))\n",
    "print(\"Hourly Profit: \", (df_price.profit.mean() / PROCESS_TIME_PER_ORDER).round(2))\n",
    "print(\"Mean Material Loss: \",df_price.material_loss.mean().round(2))"
   ],
   "id": "b5993ea149836368",
   "outputs": [
    {
     "name": "stdout",
     "output_type": "stream",
     "text": [
      "Lowest Profit:  -17.6\n",
      "Highest Profit:  44.5\n",
      "Mean Profit:  23.81\n",
      "Median Profit:  27.8\n",
      "Hourly Profit:  52.91\n",
      "Mean Material Loss:  0.96\n"
     ]
    }
   ],
   "execution_count": 274
  },
  {
   "metadata": {},
   "cell_type": "markdown",
   "source": [
    "#### Observations\n",
    "- There is only a negative profit on one of the items in the chart it used some fairly unrealistic values.\n",
    "- The mean profit for this data set is 23.81\n",
    "- The units with the lowest profit all have weight > 10 and length > 11\n",
    "- The mean material loss is .96 units, but assumes the client doesn't reuse any scrap materials.\n"
   ],
   "id": "2b79049bee859004"
  },
  {
   "metadata": {},
   "cell_type": "markdown",
   "source": "### Profit Graph Plots",
   "id": "a17b84856c030f6e"
  },
  {
   "metadata": {},
   "cell_type": "markdown",
   "source": "#### Profit by count",
   "id": "eb8e74d20040532a"
  },
  {
   "metadata": {
    "ExecuteTime": {
     "end_time": "2025-09-08T18:11:26.879571Z",
     "start_time": "2025-09-08T18:11:26.838730Z"
    }
   },
   "cell_type": "code",
   "source": "sns.histplot(x='profit', data=df_price);",
   "id": "abefd98751fff30b",
   "outputs": [
    {
     "data": {
      "text/plain": [
       "<Figure size 640x480 with 1 Axes>"
      ],
      "image/png": "[encoded data removed]"
     },
     "metadata": {},
     "output_type": "display_data"
    }
   ],
   "execution_count": 275
  },
  {
   "metadata": {},
   "cell_type": "markdown",
   "source": "#### Profit by Material Count",
   "id": "4e75ade0d7bddeeb"
  },
  {
   "metadata": {
    "ExecuteTime": {
     "end_time": "2025-09-08T18:11:26.958835Z",
     "start_time": "2025-09-08T18:11:26.894852Z"
    }
   },
   "cell_type": "code",
   "source": [
    "\n",
    "\n",
    "sns.histplot(data=df_price, x='num_units', y='profit', hue='num_colors', palette='viridis');\n"
   ],
   "id": "696719a2cd725845",
   "outputs": [
    {
     "data": {
      "text/plain": [
       "<Figure size 640x480 with 1 Axes>"
      ],
      "image/png": "[encoded data removed]"
     },
     "metadata": {},
     "output_type": "display_data"
    }
   ],
   "execution_count": 276
  },
  {
   "metadata": {},
   "cell_type": "markdown",
   "source": [
    "### Observations\n",
    "- When num_units is greater than 4 or num_colors is more than 6 some orders stop being profitable.\n"
   ],
   "id": "bd583a4103ded138"
  },
  {
   "metadata": {
    "ExecuteTime": {
     "end_time": "2025-09-08T18:13:33.632653Z",
     "start_time": "2025-09-08T18:13:33.559537Z"
    }
   },
   "cell_type": "code",
   "source": [
    "import seaborn as sns\n",
    "df_light = df_price[df_price['weight'] < 10]\n",
    "sns.histplot(data=df_light, x='num_units', y='profit', hue='num_colors', palette='viridis');"
   ],
   "id": "db6e1576e0326cd7",
   "outputs": [
    {
     "data": {
      "text/plain": [
       "<Figure size 640x480 with 1 Axes>"
      ],
      "image/png": "[encoded data removed]"
     },
     "metadata": {},
     "output_type": "display_data"
    }
   ],
   "execution_count": 285
  },
  {
   "metadata": {
    "ExecuteTime": {
     "end_time": "2025-09-08T18:14:20.278429Z",
     "start_time": "2025-09-08T18:14:20.211577Z"
    }
   },
   "cell_type": "code",
   "source": [
    "df_short = df_price[df_price['length'] < 12]\n",
    "sns.histplot(data=df_short, x='num_units', y='profit', hue='num_colors', palette='viridis');"
   ],
   "id": "3c0bf7639335d23d",
   "outputs": [
    {
     "data": {
      "text/plain": [
       "<Figure size 640x480 with 1 Axes>"
      ],
      "image/png": "[encoded data removed]"
     },
     "metadata": {},
     "output_type": "display_data"
    }
   ],
   "execution_count": 286
  },
  {
   "metadata": {},
   "cell_type": "markdown",
   "source": [
    "### Observations\n",
    "- Limiting order weight to values less than 10 or length to values less than 12 unprofitable samples from the set."
   ],
   "id": "64c91d36c4956532"
  },
  {
   "metadata": {},
   "cell_type": "markdown",
   "source": [
    "### Conclusion\n",
    "- Based on the observations this product should be fairly profitable for the client.\n",
    "- Client should do additional research to find the best place to market their product.\n",
    "- Vendor could eliminate unprofitable sales by one of the following:\n",
    "- A. Putting a max limit on length and weight values for their orders.\n",
    "- B. Adding a surcharge for orders that fall outside normal range."
   ],
   "id": "2c2d52228bb0cf3e"
  }
 ],
 "metadata": {
  "kernelspec": {
   "display_name": "Python 3",
   "language": "python",
   "name": "python3"
  },
  "language_info": {
   "codemirror_mode": {
    "name": "ipython",
    "version": 2
   },
   "file_extension": ".py",
   "mimetype": "text/x-python",
   "name": "python",
   "nbconvert_exporter": "python",
   "pygments_lexer": "ipython2",
   "version": "2.7.6"
  }
 },
 "nbformat": 4,
 "nbformat_minor": 5
}
