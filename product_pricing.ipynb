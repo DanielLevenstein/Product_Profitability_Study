{
 "cells": [
  {
   "cell_type": "markdown",
   "id": "bc23aad5d4968baf",
   "metadata": {},
   "source": [
    "# Product Pricing Chart Case Study\n",
    "## Product A Pricing Chart\n",
    "\n",
    "- Product A has a raw material cost of around \\$7 and takes about 30 - 45 minutes of processing time to complete.\n",
    "- Product starts at 35 dollars and vendor is charging 5 dollars for each additional color used in construction.\n"
   ]
  },
  {
   "cell_type": "code",
   "id": "7ea78ae924463eaa",
   "metadata": {
    "ExecuteTime": {
     "end_time": "2025-09-10T19:34:00.367596Z",
     "start_time": "2025-09-10T19:34:00.364285Z"
    }
   },
   "source": [
    "# products start at $35 and cost $5 extra for each additional color\n",
    "import numpy as np\n",
    "# Define constants\n",
    "BASE_PRICE = 35\n",
    "DEFAULT_LENGTH = 12\n",
    "DEFAULT_WIDTH = 8\n",
    "MATERIAL_LOSS = 8\n",
    "MATERIAL_PRICE_LIST = [14.94 / 2, 34.09 / 4, 48.60 / 10, 19.11 / 4]\n",
    "MATERIAL_PRICE = np.mean(MATERIAL_PRICE_LIST)\n",
    "print(f\"MATERIAL_PRICE: ${MATERIAL_PRICE.round(2)}\")"
   ],
   "outputs": [
    {
     "name": "stdout",
     "output_type": "stream",
     "text": [
      "MATERIAL_PRICE: $6.41\n"
     ]
    }
   ],
   "execution_count": 235
  },
  {
   "cell_type": "markdown",
   "id": "88e1a75e47d0c59e",
   "metadata": {},
   "source": [
    "### Generating Test Data for analysis\n",
    "- Product has 3 parameters which can be customized for each user basis. Length, Weight, and Color.\n",
    "- In my generated test data I am maxing out on a length of 20 inches."
   ]
  },
  {
   "cell_type": "code",
   "id": "6994942c2c59ff95",
   "metadata": {
    "ExecuteTime": {
     "end_time": "2025-09-10T19:34:00.391283Z",
     "start_time": "2025-09-10T19:34:00.387178Z"
    }
   },
   "source": [
    "# Generating test data\n",
    "import pandas as pd\n",
    "\n",
    "INCHES_PER_UNIT = 15 * 12\n",
    "width_list = list(range(6, 13))\n",
    "length_list = list(range(6, 15))\n",
    "color_list = list(range(1,10))\n",
    "data = []\n",
    "\n",
    "for color in color_list:\n",
    "    for width in width_list:\n",
    "        for length in length_list:\n",
    "            # Removing invalid params from dataset\n",
    "            if color < weight:\n",
    "                data.append([length, width, color])\n",
    "\n",
    "# Order of columns changed\n",
    "df = pd.DataFrame(columns=['length', 'width', 'num_colors'], data=data)\n",
    "\n",
    "df.head()"
   ],
   "outputs": [
    {
     "data": {
      "text/plain": [
       "   length  width  num_colors\n",
       "0       6      6           1\n",
       "1       7      6           1\n",
       "2       8      6           1\n",
       "3       9      6           1\n",
       "4      10      6           1"
      ],
      "text/html": [
       "<div>\n",
       "<style scoped>\n",
       "    .dataframe tbody tr th:only-of-type {\n",
       "        vertical-align: middle;\n",
       "    }\n",
       "\n",
       "    .dataframe tbody tr th {\n",
       "        vertical-align: top;\n",
       "    }\n",
       "\n",
       "    .dataframe thead th {\n",
       "        text-align: right;\n",
       "    }\n",
       "</style>\n",
       "<table border=\"1\" class=\"dataframe\">\n",
       "  <thead>\n",
       "    <tr style=\"text-align: right;\">\n",
       "      <th></th>\n",
       "      <th>length</th>\n",
       "      <th>width</th>\n",
       "      <th>num_colors</th>\n",
       "    </tr>\n",
       "  </thead>\n",
       "  <tbody>\n",
       "    <tr>\n",
       "      <th>0</th>\n",
       "      <td>6</td>\n",
       "      <td>6</td>\n",
       "      <td>1</td>\n",
       "    </tr>\n",
       "    <tr>\n",
       "      <th>1</th>\n",
       "      <td>7</td>\n",
       "      <td>6</td>\n",
       "      <td>1</td>\n",
       "    </tr>\n",
       "    <tr>\n",
       "      <th>2</th>\n",
       "      <td>8</td>\n",
       "      <td>6</td>\n",
       "      <td>1</td>\n",
       "    </tr>\n",
       "    <tr>\n",
       "      <th>3</th>\n",
       "      <td>9</td>\n",
       "      <td>6</td>\n",
       "      <td>1</td>\n",
       "    </tr>\n",
       "    <tr>\n",
       "      <th>4</th>\n",
       "      <td>10</td>\n",
       "      <td>6</td>\n",
       "      <td>1</td>\n",
       "    </tr>\n",
       "  </tbody>\n",
       "</table>\n",
       "</div>"
      ]
     },
     "execution_count": 236,
     "metadata": {},
     "output_type": "execute_result"
    }
   ],
   "execution_count": 236
  },
  {
   "cell_type": "code",
   "id": "d6183159a95f2b8",
   "metadata": {
    "ExecuteTime": {
     "end_time": "2025-09-10T19:34:00.423094Z",
     "start_time": "2025-09-10T19:34:00.421669Z"
    }
   },
   "source": [],
   "outputs": [],
   "execution_count": null
  },
  {
   "cell_type": "code",
   "id": "2d882c8aae14bc92",
   "metadata": {
    "ExecuteTime": {
     "end_time": "2025-09-10T19:34:00.449715Z",
     "start_time": "2025-09-10T19:34:00.447071Z"
    }
   },
   "source": [
    "# Adding building stats to df\n",
    "generated_columns = ['get_segment_length', 'get_num_segments', 'get_num_units_raw']\n",
    "df_build_stats = df.copy()\n",
    "df_build_stats['get_segment_length'] = df['length'] + 8\n",
    "df_build_stats['get_num_segments'] = df['width'] / 2\n",
    "df_build_stats['get_segments_per_color'] = df_build_stats['get_num_segments'] / df['num_colors']\n",
    "df_build_stats['get_total_length'] = df_build_stats['get_segment_length'] * df_build_stats['get_num_segments']\n",
    "df_build_stats['get_num_units_raw'] = df_build_stats['get_total_length'] / INCHES_PER_UNIT\n",
    "df_build_stats['get_length_per_color'] = df_build_stats['get_segment_length'] * df_build_stats['get_num_segments']\n",
    "\n"
   ],
   "outputs": [],
   "execution_count": 237
  },
  {
   "cell_type": "markdown",
   "id": "3769552a6c0a4763",
   "metadata": {},
   "source": [
    "#### Segment Length vs Material Count"
   ]
  },
  {
   "cell_type": "code",
   "id": "3616bebc4f6a33e4",
   "metadata": {
    "ExecuteTime": {
     "end_time": "2025-09-10T19:34:00.510106Z",
     "start_time": "2025-09-10T19:34:00.467476Z"
    }
   },
   "source": [
    "import seaborn as sns\n",
    "\n",
    "sns.boxplot(data=df_build_stats, x='get_segment_length', y='get_num_units_raw');"
   ],
   "outputs": [
    {
     "data": {
      "text/plain": [
       "<Figure size 640x480 with 1 Axes>"
      ],
      "image/png": "[encoded data removed]"
     },
     "metadata": {},
     "output_type": "display_data"
    }
   ],
   "execution_count": 238
  },
  {
   "cell_type": "code",
   "id": "cb0ec3b21a5cae14",
   "metadata": {
    "ExecuteTime": {
     "end_time": "2025-09-10T19:36:24.956711Z",
     "start_time": "2025-09-10T19:36:24.903807Z"
    }
   },
   "source": [
    "# Verifying that there is still a profit margin in the worst case scenarios.\n",
    "df_price = df.copy()\n",
    "COST_PER_UNIT = (15 / 2) + 8 #Two units per order plus shipping and handling\n",
    "PROCESS_TIME_PER_ORDER = .45\n",
    "COST_PER_COLOR = 5\n",
    "df_price['price'] = 35 + df_price['num_colors'] * COST_PER_COLOR\n",
    "df_price['num_units'] = df_build_stats['get_num_units_raw'].round(1) * df_build_stats['num_colors']\n",
    "df_price['num_units_rounded'] = np.ceil(df_build_stats['get_num_units_raw'] * 4)/4 * df_build_stats['num_colors']\n",
    "df_price['material_loss'] = df_price['num_units_rounded'] - df_price['num_units']\n",
    "df_price['material_length'] = df_build_stats['get_segment_length'] * df_build_stats['get_num_segments']\n",
    "df_price['material_cost']= df_price['num_units_rounded'] * COST_PER_UNIT\n",
    "df_price['profit']= df_price['price'] - df_price['material_cost']\n",
    "# Making copy of data for backup\n",
    "df_price1 = df_price.copy()\n",
    "meanProfit = df_price.profit.mean()\n",
    "print(\"Lowest Profit: \",df_price.profit.min().round(1))\n",
    "print(\"Highest Profit: \",df_price.profit.max().round(2))\n",
    "print(\"Mean Profit: \",df_price.profit.mean().round(2))\n",
    "print(\"Mean Material Loss: \",df_price.material_loss.mean().round(2))\n",
    "print(\"Median Profit: \",df_price.profit.median().round(2))\n",
    "print(\"Hourly Profit: \", (df_price.profit.mean() / PROCESS_TIME_PER_ORDER).round(2))\n",
    "print(\"Mean Material Loss: \",df_price.material_loss.mean().round(2))\n",
    "profit_columns = ['profit', 'material_loss', 'material_length', 'price', 'material_cost']\n",
    "sns.histplot(x='profit', data=df_price);\n"
   ],
   "outputs": [
    {
     "name": "stdout",
     "output_type": "stream",
     "text": [
      "Lowest Profit:  -24.6\n",
      "Highest Profit:  45.12\n",
      "Mean Profit:  16.02\n",
      "Mean Material Loss:  0.58\n",
      "Median Profit:  18.5\n",
      "Hourly Profit:  35.6\n",
      "Mean Material Loss:  0.58\n"
     ]
    },
    {
     "data": {
      "text/plain": [
       "<Figure size 640x480 with 1 Axes>"
      ],
      "image/png": "[encoded data removed]"
     },
     "metadata": {},
     "output_type": "display_data"
    }
   ],
   "execution_count": 244
  },
  {
   "metadata": {},
   "cell_type": "markdown",
   "source": [
    "#### Observations\n",
    "- There is only a negative profit on one of the items in the chart it used some fairly unrealistic values.\n",
    "- The mean profit for this data set is over 20.\n",
    "- The mean material loss is around 0.50 units per order.\n",
    "- This number assumes no waste material is recovered.\n"
   ],
   "id": "2b79049bee859004"
  },
  {
   "metadata": {},
   "cell_type": "markdown",
   "source": "### Original Data Plots and Graphs",
   "id": "a17b84856c030f6e"
  },
  {
   "cell_type": "markdown",
   "id": "85dd26b8c35e64c3",
   "metadata": {},
   "source": "Creating derived field order_size which is calculated by adding the length, weight, and num_colors for each order."
  },
  {
   "cell_type": "code",
   "id": "b0ec7f2a769f86ff",
   "metadata": {
    "ExecuteTime": {
     "end_time": "2025-09-10T19:34:00.610865Z",
     "start_time": "2025-09-10T19:34:00.577258Z"
    }
   },
   "source": [
    "# Creating single metric for order size for future graphs\n",
    "df_price['order_size'] = df_price['length'] + df_price['width'] + df_price['num_colors']\n",
    "sns.histplot(data=df_price, x='order_size', y='material_loss');"
   ],
   "outputs": [
    {
     "data": {
      "text/plain": [
       "<Figure size 640x480 with 1 Axes>"
      ],
      "image/png": "[encoded data removed]"
     },
     "metadata": {},
     "output_type": "display_data"
    }
   ],
   "execution_count": 240
  },
  {
   "metadata": {},
   "cell_type": "markdown",
   "source": "### Limit Max value for Number of Colors",
   "id": "8a9d7af08d096a57"
  },
  {
   "metadata": {
    "ExecuteTime": {
     "end_time": "2025-09-10T19:34:00.764932Z",
     "start_time": "2025-09-10T19:34:00.703967Z"
    }
   },
   "cell_type": "code",
   "source": [
    "MAX_COLOR_NUM = 6\n",
    "df_price2 = df_price[df_price['num_colors'] <= MAX_COLOR_NUM]\n",
    "print(\"Lowest Profit: \", df_price2.profit.min().round(2))\n",
    "print(\"Max Profit: \", df_price2.profit.max().round(2))\n",
    "print(\"Mean Profit: \", df_price2.profit.mean().round(0))\n",
    "sns.histplot(data=df_price2, x='order_size', y='profit', hue='num_colors', palette='viridis');"
   ],
   "id": "f4298263bb70eda7",
   "outputs": [
    {
     "name": "stdout",
     "output_type": "stream",
     "text": [
      "Lowest Profit:  -4.75\n",
      "Max Profit:  41.75\n",
      "Mean Profit:  22.0\n"
     ]
    },
    {
     "data": {
      "text/plain": [
       "<Figure size 640x480 with 1 Axes>"
      ],
      "image/png": "[encoded data removed]"
     },
     "metadata": {},
     "output_type": "display_data"
    }
   ],
   "execution_count": 242
  },
  {
   "metadata": {},
   "cell_type": "markdown",
   "source": [
    "#### Conclusion\n",
    "- If we limit the max color number to 6 there are still items in the dataset with a negative profit\n",
    "- The mean profit for this chart is over $25\n",
    "- Perhaps limiting the number of colors isn't idea.\n",
    "#### Proposal\n",
    "- Limit order size by material length instead\n"
   ],
   "id": "2c2d52228bb0cf3e"
  },
  {
   "cell_type": "markdown",
   "id": "b9b41d593e7fb8d8",
   "metadata": {},
   "source": "### Set Max Material Length"
  },
  {
   "metadata": {
    "ExecuteTime": {
     "end_time": "2025-09-10T20:11:09.404356Z",
     "start_time": "2025-09-10T20:11:09.324321Z"
    }
   },
   "cell_type": "code",
   "source": [
    "# Adding a max limit to order size\n",
    "MAX_MATERIAL_LENGTH = 12 * 30\n",
    "df_price3 = df_price.copy()\n",
    "df_price3 = df_price[(df_price['material_length'] * df_price['num_colors']) < MAX_MATERIAL_LENGTH]\n",
    "print(f\"Removing all orders with material_length > 30 feet from the dataset\")\n",
    "print(\"Lowest Profit: \",df_price3.profit.min().round(2))\n",
    "print(\"Max Profit: \",df_price3.profit.max().round(2))\n",
    "print(\"Mean Profit: \",df_price3.profit.mean().round(0))\n",
    "\n",
    "sns.histplot(data=df_price3, x='material_length', y='profit', hue='num_colors', palette='viridis');\n"
   ],
   "id": "87339dc314f8f7c4",
   "outputs": [
    {
     "name": "stdout",
     "output_type": "stream",
     "text": [
      "Removing all orders with material_length > 30 feet from the dataset\n",
      "Lowest Profit:  15.12\n",
      "Max Profit:  44.0\n",
      "Mean Profit:  27.0\n"
     ]
    },
    {
     "data": {
      "text/plain": [
       "<Figure size 640x480 with 1 Axes>"
      ],
      "image/png": "[encoded data removed]"
     },
     "metadata": {},
     "output_type": "display_data"
    }
   ],
   "execution_count": 266
  },
  {
   "metadata": {},
   "cell_type": "markdown",
   "source": [
    "#### Observations\n",
    "- All orders that use less than 30 ft of material are profitable.\n",
    "- Material length is a derived field so ideally the pricing should be based on length and width of the item."
   ],
   "id": "aab29f73c1caa09d"
  },
  {
   "metadata": {},
   "cell_type": "markdown",
   "source": [
    "### Suggestions\n",
    "- Client should do one of the following things.\n",
    "  - Limit their orders to orders that use less than 30 ft of materials.\n",
    "  - Add an extra charge for orders that use more than 30 ft of materials."
   ],
   "id": "39eabc3bf131d623"
  }
 ],
 "metadata": {
  "kernelspec": {
   "display_name": "Python 3 (ipykernel)",
   "language": "python",
   "name": "python3"
  },
  "language_info": {
   "codemirror_mode": {
    "name": "ipython",
    "version": 3
   },
   "file_extension": ".py",
   "mimetype": "text/x-python",
   "name": "python",
   "nbconvert_exporter": "python",
   "pygments_lexer": "ipython3",
   "version": "3.13.0"
  }
 },
 "nbformat": 4,
 "nbformat_minor": 5
}
